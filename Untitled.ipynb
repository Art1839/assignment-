{
  "metadata": {
    "language_info": {
      "codemirror_mode": {
        "name": "python",
        "version": 3
      },
      "file_extension": ".py",
      "mimetype": "text/x-python",
      "name": "python",
      "nbconvert_exporter": "python",
      "pygments_lexer": "ipython3",
      "version": "3.8"
    },
    "kernelspec": {
      "name": "python",
      "display_name": "Pyolite",
      "language": "python"
    }
  },
  "nbformat_minor": 4,
  "nbformat": 4,
  "cells": [
    {
      "cell_type": "markdown",
      "source": "#\"My Jupyter Notebook on IBM Watson Studio\"",
      "metadata": {
        "tags": []
      }
    },
    {
      "cell_type": "markdown",
      "source": "**Artem**",
      "metadata": {}
    },
    {
      "cell_type": "markdown",
      "source": "*\"I am interested in data science because it very fast growing business\"*",
      "metadata": {}
    },
    {
      "cell_type": "markdown",
      "source": "### In line number 5 I am summarizing two numbers which should give result equals 2. ",
      "metadata": {}
    },
    {
      "cell_type": "code",
      "source": "1+1",
      "metadata": {},
      "execution_count": null,
      "outputs": []
    },
    {
      "cell_type": "markdown",
      "source": "___ w , ***r, ---y, | Tables        | Are           | Cool  | , ",
      "metadata": {}
    }
  ]
}